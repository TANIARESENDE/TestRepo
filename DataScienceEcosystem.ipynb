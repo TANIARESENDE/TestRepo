{
 "cells": [
  {
   "cell_type": "markdown",
   "id": "6a2a1d1e-5481-435c-ae74-b2d049044858",
   "metadata": {},
   "source": [
    "# Data Science Tools and Ecosystem"
   ]
  },
  {
   "cell_type": "markdown",
   "id": "e6eb5d6e-bf7d-4e39-b7bc-83b5c29ac757",
   "metadata": {},
   "source": [
    "Neste notebook, as Ferramentas e Ecossistema de Ciência de Dados são resumidos.\n"
   ]
  },
  {
   "cell_type": "markdown",
   "id": "6c37b327-3b4c-4f43-b019-41e33c11a986",
   "metadata": {},
   "source": [
    "Algumas das linguagens populares que os Cientistas de Dados usam são:\n",
    "\n",
    "1. Python  \n",
    "2. R  \n",
    "3. SQL  \n",
    "4. Java  \n",
    "5. Scala\n"
   ]
  },
  {
   "cell_type": "markdown",
   "id": "4b6acd93-5371-4862-97be-6b43486ca5ba",
   "metadata": {},
   "source": [
    "Algumas das bibliotecas comumente usadas por Cientistas de Dados incluem:\n",
    "\n",
    "1. Pandas  \n",
    "2. NumPy  \n",
    "3. Matplotlib  \n",
    "4. Scikit-learn  \n",
    "5. TensorFlow\n"
   ]
  },
  {
   "cell_type": "markdown",
   "id": "7aec857a-eb6d-4c9c-86f2-43d9f202eba2",
   "metadata": {},
   "source": [
    "\n",
    "| Ferramentas de Ciência de Dados |\n",
    "|----------------------------------|\n",
    "| Jupyter Notebook                 |\n",
    "| RStudio                          |\n",
    "| Apache Zeppelin                  |\n"
   ]
  },
  {
   "cell_type": "markdown",
   "id": "bcef9b33-9d8d-40ba-ae56-a961fbd35515",
   "metadata": {},
   "source": [
    "### Abaixo estão alguns exemplos de avaliação de expressões aritméticas em Python\n"
   ]
  },
  {
   "cell_type": "code",
   "execution_count": 3,
   "id": "caaf3127-5466-4a2f-9131-d2ba1f4809df",
   "metadata": {},
   "outputs": [
    {
     "data": {
      "text/plain": [
       "17"
      ]
     },
     "execution_count": 3,
     "metadata": {},
     "output_type": "execute_result"
    }
   ],
   "source": [
    "#Esta é uma expressão aritmética simples para multiplicar e depois adicionar inteiros\n",
    "(3 * 4) + 5\n"
   ]
  },
  {
   "cell_type": "code",
   "execution_count": 4,
   "id": "84f232e0-2abb-480d-ba9a-5f6c53e376f9",
   "metadata": {},
   "outputs": [
    {
     "data": {
      "text/plain": [
       "3.3333333333333335"
      ]
     },
     "execution_count": 4,
     "metadata": {},
     "output_type": "execute_result"
    }
   ],
   "source": [
    "# Isso converterá 200 minutos em horas dividindo por 60\n",
    "200 / 60"
   ]
  },
  {
   "cell_type": "markdown",
   "id": "ae0e9192-8d3a-40d9-ac0f-6e1e3bd31535",
   "metadata": {},
   "source": [
    "**Objetivos:**\n",
    "\n",
    "- Listar linguagens populares para Ciência de Dados  \n",
    "- Identificar bibliotecas comuns usadas por Cientistas de Dados  \n",
    "- Apresentar ferramentas de código aberto para Ciência de Dados  \n",
    "- Demonstrar expressões aritméticas simples em Python  \n",
    "- Compartilhar notebooks via GitHub\n"
   ]
  },
  {
   "cell_type": "markdown",
   "id": "3c8da0cd-bd55-4b4d-9a54-55696c2bfbbf",
   "metadata": {},
   "source": [
    "## Autor  \n",
    "Tania\n"
   ]
  },
  {
   "cell_type": "code",
   "execution_count": null,
   "id": "265e7d50-f316-4cce-8a90-ff26be45777a",
   "metadata": {},
   "outputs": [],
   "source": []
  },
  {
   "cell_type": "code",
   "execution_count": null,
   "id": "41b14479-57b0-41f6-8d90-af2b62660ce0",
   "metadata": {},
   "outputs": [],
   "source": []
  }
 ],
 "metadata": {
  "kernelspec": {
   "display_name": "Python 3 (ipykernel)",
   "language": "python",
   "name": "python3"
  },
  "language_info": {
   "codemirror_mode": {
    "name": "ipython",
    "version": 3
   },
   "file_extension": ".py",
   "mimetype": "text/x-python",
   "name": "python",
   "nbconvert_exporter": "python",
   "pygments_lexer": "ipython3",
   "version": "3.13.6"
  }
 },
 "nbformat": 4,
 "nbformat_minor": 5
}
